{
 "cells": [
  {
   "cell_type": "code",
   "execution_count": 1,
   "id": "1f9caba4",
   "metadata": {},
   "outputs": [],
   "source": [
    "import numpy as np\n",
    "import jax\n",
    "from jax import numpy as jnp\n",
    "\n",
    "import distrax\n",
    "import haiku as hk\n",
    "\n",
    "from ima.upsampling import Pad\n",
    "\n",
    "from jax.experimental.optimizers import adam\n",
    "\n",
    "from tqdm import tqdm\n",
    "from matplotlib import pyplot as plt"
   ]
  },
  {
   "cell_type": "code",
   "execution_count": 2,
   "id": "367ac79d",
   "metadata": {},
   "outputs": [
    {
     "name": "stderr",
     "output_type": "stream",
     "text": [
      "WARNING:absl:No GPU/TPU found, falling back to CPU. (Set TF_CPP_MIN_LOG_LEVEL=0 and rerun for more info.)\n"
     ]
    }
   ],
   "source": [
    "key = jax.random.PRNGKey(1)"
   ]
  },
  {
   "cell_type": "code",
   "execution_count": 3,
   "id": "9525e934",
   "metadata": {},
   "outputs": [],
   "source": [
    "d = 10\n",
    "D = 1000\n",
    "N = 10000\n",
    "\n",
    "key, subkey = jax.random.split(key)\n",
    "sources = jax.random.normal(subkey, shape=(N, d))\n",
    "\n",
    "key, subkey = jax.random.split(key)\n",
    "A = jax.random.normal(subkey, shape=(D, d)) / np.sqrt(d)\n",
    "\n",
    "mv = lambda m, v: jnp.matmul(m, v)\n",
    "mbv = jax.vmap(mv, (None, 0), 0)\n",
    "observations = mbv(A, sources)"
   ]
  },
  {
   "cell_type": "code",
   "execution_count": 4,
   "id": "b89069ac",
   "metadata": {},
   "outputs": [],
   "source": [
    "def mk_flow(K = 4, nl = 2, hu = 128):\n",
    "    pad = Pad((0, D - d))\n",
    "    layers = []\n",
    "    for i in range(K):\n",
    "        mlp = hk.Sequential([hk.nets.MLP(nl * (hu,), activate_final=True),\n",
    "                             hk.Linear(D, w_init=jnp.zeros, b_init=jnp.zeros)])\n",
    "        def bij_fn(params):\n",
    "            bij = distrax.ScalarAffine(shift=params[..., :D // 2], log_scale=params[..., D // 2:])\n",
    "            return distrax.Block(bij, 1)\n",
    "        layers.append(distrax.SplitCoupling(D // 2, 1, mlp, bij_fn, swap=bool(i % 2)))\n",
    "    flow = distrax.Chain(layers)\n",
    "    return (pad, flow)\n",
    "\n",
    "def fwd_(x):\n",
    "    pad, flow = mk_flow()\n",
    "    \n",
    "    x = pad.forward(x)\n",
    "    return flow.forward(x)\n",
    "\n",
    "def inv_(x):\n",
    "    pad, flow = mk_flow()\n",
    "    \n",
    "    x = flow.inverse(x)\n",
    "    return pad.inverse(x)"
   ]
  },
  {
   "cell_type": "code",
   "execution_count": 5,
   "id": "3f04dd59",
   "metadata": {
    "scrolled": true
   },
   "outputs": [],
   "source": [
    "key, subkey = jax.random.split(key)\n",
    "fwd = hk.transform(fwd_)\n",
    "inv = hk.transform(inv_)\n",
    "params = fwd.init(subkey, jnp.array(np.random.randn(5, d)))"
   ]
  },
  {
   "cell_type": "code",
   "execution_count": 6,
   "id": "632c9a88",
   "metadata": {},
   "outputs": [],
   "source": [
    "def log_prob_(args):\n",
    "    x, lam = args\n",
    "    pad, flow = mk_flow()\n",
    "    \n",
    "    fwd = lambda y: flow.forward(pad.forward(y))\n",
    "    inv = lambda y: pad.inverse(flow.inverse(y))\n",
    "    \n",
    "    base_dist = distrax.Independent(distrax.Normal(loc=jnp.zeros(d), scale=jnp.ones(d)),\n",
    "                                    reinterpreted_batch_ndims=1)\n",
    "    \n",
    "    jac_fn = jax.vmap(jax.jacfwd(fwd))\n",
    "    \n",
    "    z = inv(x)\n",
    "    jac = jac_fn(z)\n",
    "    \n",
    "    jj = jax.lax.batch_matmul(jnp.transpose(jac, (0, 2, 1)), jac)\n",
    "    chol = jax.vmap(jax.scipy.linalg.cholesky)(jj)\n",
    "    log_det = jnp.sum(jnp.log(jax.vmap(jnp.diag)(chol)), -1)\n",
    "    \n",
    "    diff = jnp.mean((x - fwd(z)) ** 2)\n",
    "    \n",
    "    return base_dist.log_prob(z) - 0.5 * log_det + lam * diff\n",
    "    "
   ]
  },
  {
   "cell_type": "code",
   "execution_count": 21,
   "id": "ae8a210c",
   "metadata": {},
   "outputs": [],
   "source": [
    "key, subkey = jax.random.split(key)\n",
    "log_prob = hk.transform(log_prob_)\n",
    "params = log_prob.init(subkey, (jnp.array(np.random.randn(5, D)), 0.))"
   ]
  },
  {
   "cell_type": "code",
   "execution_count": 22,
   "id": "5406740b",
   "metadata": {},
   "outputs": [],
   "source": [
    "b = jnp.array(np.random.randn(5, D))"
   ]
  },
  {
   "cell_type": "code",
   "execution_count": 23,
   "id": "1999be58",
   "metadata": {
    "scrolled": true
   },
   "outputs": [
    {
     "data": {
      "text/plain": [
       "DeviceArray([-10.506973, -11.103468, -12.347843, -18.146532, -13.132103],            dtype=float32)"
      ]
     },
     "execution_count": 23,
     "metadata": {},
     "output_type": "execute_result"
    }
   ],
   "source": [
    "log_prob.apply(params, None, (b, 1.))"
   ]
  },
  {
   "cell_type": "code",
   "execution_count": 24,
   "id": "bce75898",
   "metadata": {},
   "outputs": [],
   "source": [
    "lr = 1.e-4\n",
    "\n",
    "opt_init, opt_update, get_params = adam(step_size=lr)\n",
    "opt_state = opt_init(params)"
   ]
  },
  {
   "cell_type": "code",
   "execution_count": 25,
   "id": "4e62806c",
   "metadata": {},
   "outputs": [],
   "source": [
    "def loss(params_, x_, lam_):\n",
    "    return -jnp.mean(log_prob.apply(params_, None, (x_, lam_)))\n",
    "    \n",
    "@jax.jit\n",
    "def step(it_, opt_state_, x_, lam_):\n",
    "    params_ = get_params(opt_state_)\n",
    "    value, grads = jax.value_and_grad(loss, 0)(params_, x_, lam_)\n",
    "    opt_state_ = opt_update(it_, grads, opt_state_)\n",
    "    return value, opt_state_"
   ]
  },
  {
   "cell_type": "code",
   "execution_count": 26,
   "id": "765926a9",
   "metadata": {},
   "outputs": [],
   "source": [
    "num_iter = 100\n",
    "batch_size = 64\n",
    "lam = 10.\n",
    "\n",
    "loss_hist = np.zeros((0, 2))"
   ]
  },
  {
   "cell_type": "code",
   "execution_count": 27,
   "id": "075ed3b0",
   "metadata": {},
   "outputs": [
    {
     "name": "stderr",
     "output_type": "stream",
     "text": [
      "100%|██████████| 100/100 [00:36<00:00,  2.74it/s]\n"
     ]
    }
   ],
   "source": [
    "for it in tqdm(range(num_iter)):\n",
    "    x = observations[np.random.choice(N, batch_size)]\n",
    "    loss_val, opt_state = step(it, opt_state, x, lam)\n",
    "\n",
    "    loss_append = np.array([[it + 1, loss_val.item()]])\n",
    "    loss_hist = np.concatenate([loss_hist, loss_append])"
   ]
  },
  {
   "cell_type": "code",
   "execution_count": 28,
   "id": "27c18c3f",
   "metadata": {},
   "outputs": [
    {
     "data": {
      "image/png": "[encoded data removed]",
      "text/plain": [
       "<Figure size 1080x720 with 1 Axes>"
      ]
     },
     "metadata": {
      "needs_background": "light"
     },
     "output_type": "display_data"
    }
   ],
   "source": [
    "plt.figure(figsize=(15, 10))\n",
    "plt.plot(loss_hist[:, 0], loss_hist[:, 1])\n",
    "plt.show()"
   ]
  },
  {
   "cell_type": "code",
   "execution_count": null,
   "id": "586ae6b0",
   "metadata": {},
   "outputs": [],
   "source": []
  }
 ],
 "metadata": {
  "kernelspec": {
   "display_name": "Python 3",
   "language": "python",
   "name": "python3"
  },
  "language_info": {
   "codemirror_mode": {
    "name": "ipython",
    "version": 3
   },
   "file_extension": ".py",
   "mimetype": "text/x-python",
   "name": "python",
   "nbconvert_exporter": "python",
   "pygments_lexer": "ipython3",
   "version": "3.8.8"
  }
 },
 "nbformat": 4,
 "nbformat_minor": 5
}
